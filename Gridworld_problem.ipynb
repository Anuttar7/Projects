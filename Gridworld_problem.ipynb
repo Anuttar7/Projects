{
 "cells": [
  {
   "cell_type": "markdown",
   "id": "04825b20-b8c6-4414-b740-5e96638981bc",
   "metadata": {},
   "source": [
    "## Gridworld Problem\n",
    "There exists a 4x4 grid as shown below. The shaded cells represent terminal state while all other cells (numbered 1 to 14) represent a nonterminal state. The actions our agent can take at each state are: Left, Right, Up and Down. Upon colliding with the walls of the grid, the agent retains its state. Our agent receives a reward of -1 for each timestep it spends on a non-terminal state and 0 for reaching the terminal state. The action that the agent takes from a given state is random with equal probability of taking each action. The new state and the reward obtained after taking an action are completely deterministic. The problem is to find the optimal policy to take in such an environment.<br>\n",
    "(Example 4.1 from Introduction to Reinforcement Learning by Richard Sutton and Andrew Barto)"
   ]
  },
  {
   "cell_type": "markdown",
   "id": "f71c8f1a-9af7-4718-adca-c8b9b6f3abfa",
   "metadata": {},
   "source": [
    "#### Dependencies"
   ]
  },
  {
   "cell_type": "code",
   "execution_count": 174,
   "id": "92c7a851-9d98-4793-bd54-035f06910ca1",
   "metadata": {},
   "outputs": [],
   "source": [
    "import numpy as np\n",
    "import matplotlib.image as img\n",
    "import matplotlib.pyplot as plt\n",
    "import random"
   ]
  },
  {
   "cell_type": "code",
   "execution_count": 2,
   "id": "824ec88d-8f49-4a09-88bb-3edec2a6bdb3",
   "metadata": {},
   "outputs": [
    {
     "data": {
      "image/png": "[encoded data removed]",
      "text/plain": [
       "<Figure size 640x480 with 1 Axes>"
      ]
     },
     "metadata": {},
     "output_type": "display_data"
    }
   ],
   "source": [
    "image = img.imread(\"Gridworld_pic.png\")  # Load the image\n",
    "plt.imshow(image)  # Display it\n",
    "plt.axis(\"off\")  # Hide axes\n",
    "plt.show()"
   ]
  },
  {
   "cell_type": "markdown",
   "id": "1b59e417-9701-4f05-8705-20fa66cc628f",
   "metadata": {},
   "source": [
    "#### Environment Class"
   ]
  },
  {
   "cell_type": "code",
   "execution_count": 185,
   "id": "c61167bb-139c-4e88-9611-df2a9d91ce8b",
   "metadata": {},
   "outputs": [],
   "source": [
    "class GridWorld_Env:\n",
    "    #Initialisation\n",
    "    def __init__(self, Policy0, gamma = 1):\n",
    "        self.n = 14                                 #Number of non-terminal States\n",
    "        self.S = np.array(range(1,15))              #Set of non-terminal States\n",
    "        self.A = [\"left\", \"right\", \"up\", \"down\"]    #Set of all Actions\n",
    "        self.V = np.zeros(self.n + 2)               #Value Function\n",
    "        self.q = np.zeros((self.n + 2, 4))          #Action-value Function\n",
    "        self.Policy = Policy0                       #Policy\n",
    "        self.gamma = gamma                          #Discount Factor\n",
    "\n",
    "        #Creating a map between actions and indices\n",
    "        self.action_map = {\"left\": 0, \"right\": 1, \"up\": 2, \"down\": 3}\n",
    "\n",
    "        #Calculating Optimal Policy\n",
    "        self.optimal_Policy()\n",
    "\n",
    "    #Reward Function\n",
    "    def reward (self, s, a):\n",
    "        if ((s == 1 and a == \"left\") or (s == 14 and a == \"right\")):\n",
    "            return 0\n",
    "        else:\n",
    "            return -1\n",
    "\n",
    "    #Finding next state from current state (s) and action (a)\n",
    "    def next_state (self, s, a):\n",
    "        if ((s == 1 and a == \"left\") or (s == 14 and a == \"right\")):\n",
    "            return 0\n",
    "        elif ((s < 4 and a == \"up\") or (s > 11 and a == \"down\") or (s % 4 == 3 and a == \"right\") or (s % 4 == 0 and a == \"left\")):\n",
    "            return s\n",
    "        elif (a == \"left\"):\n",
    "            return s - 1\n",
    "        elif (a == \"right\"):\n",
    "            return s + 1\n",
    "        elif (a == \"up\"):\n",
    "            return s - 4\n",
    "        elif (a == \"down\"):\n",
    "            return s + 4\n",
    "\n",
    "    #Calculating Value Function via Iterations\n",
    "    def update_Vpi (self):\n",
    "        tolerance = 10 ** -6\n",
    "        while (True):\n",
    "            delta = 0\n",
    "            for s in self.S:\n",
    "                v_old = self.V[s]\n",
    "                v = 0\n",
    "                for a in self.A:\n",
    "                    s_new = self.next_state(s, a)\n",
    "                    v += self.Policy[s, self.action_map[a]] * (self.reward(s,a) + self.gamma * self.V[s_new])\n",
    "                self.V[s] = v\n",
    "                delta = max(delta, abs(self.V[s] - v_old))\n",
    "            if (delta < tolerance):\n",
    "                return\n",
    "\n",
    "    #Updating Action-Value Function\n",
    "    def update_Qpi (self):\n",
    "        for s in self.S:\n",
    "            for a in self.A:\n",
    "                s_new = self.next_state(s,a)\n",
    "                self.q[s,self.action_map[a]] = self.reward(s,a) + self.gamma * self.V[s_new]\n",
    "\n",
    "    #Updating Policy Function\n",
    "    def update_Policy(self):\n",
    "        temp_Policy = np.array(np.argmax(self.q, axis=1))\n",
    "        self.Policy = np.zeros((16, 4))\n",
    "        for s in self.S:\n",
    "            self.Policy[s,temp_Policy[s]] = 1\n",
    "\n",
    "    #Calculating Optimal Policy via Policy Iteration\n",
    "    def optimal_Policy (self):\n",
    "        tolerance = 10 ** -6\n",
    "        while (True):\n",
    "            old_max = max(self.V)\n",
    "            self.update_Vpi()\n",
    "            self.update_Qpi()\n",
    "            self.update_Policy()\n",
    "            new_max = max(self.V)\n",
    "            if (abs(new_max - old_max) < tolerance):\n",
    "                return\n",
    "\n",
    "    #Print Value Function\n",
    "    def get_Vpi (self):\n",
    "        for i in range(4):\n",
    "            for j in range(4):\n",
    "                print(f\"{self.V[i*4 + j]: .2f}\", end = \" \")\n",
    "            print(\"\\n\")\n",
    "\n",
    "    #Print Policy\n",
    "    def get_Policy (self):\n",
    "        map_ = {0: \"\\u2190\", 1: \"\\u2192\", 2: \"\\u2191\", 3:\"\\u2193\"}\n",
    "        policy = np.argmax(self.Policy, axis=1)\n",
    "        \n",
    "        for i in range(4):\n",
    "            for j in range(4):\n",
    "                if ((i == 0 and j == 0) or (i == 3 and j == 3)):\n",
    "                    print(\"o\", end = \" \")\n",
    "                    continue\n",
    "                print(map_[policy[i*4 + j]], end = \" \")\n",
    "            print(\"\\n\")"
   ]
  },
  {
   "cell_type": "markdown",
   "id": "2030b721-ad77-418c-9270-54f96ce4fd66",
   "metadata": {},
   "source": [
    "#### Initial Policy"
   ]
  },
  {
   "cell_type": "code",
   "execution_count": 176,
   "id": "0b6fb420-0552-4cae-b7b0-3ad151e63c09",
   "metadata": {},
   "outputs": [],
   "source": [
    "Policy = 0.25 * np.ones((16, 4))"
   ]
  },
  {
   "cell_type": "markdown",
   "id": "4a64a889-6412-4469-814c-2735e6074a6f",
   "metadata": {},
   "source": [
    "#### Creating Environment"
   ]
  },
  {
   "cell_type": "code",
   "execution_count": 186,
   "id": "47e308b5-9694-4d0a-9a7f-9ee206bf65fb",
   "metadata": {},
   "outputs": [],
   "source": [
    "env = GridWorld_Env(Policy)"
   ]
  },
  {
   "cell_type": "markdown",
   "id": "8f195c31-936f-4bfd-962c-5cc2b344192f",
   "metadata": {},
   "source": [
    "#### Optimal Value Function"
   ]
  },
  {
   "cell_type": "code",
   "execution_count": 189,
   "id": "3ae16854-1f65-493d-9b4b-ec1b7fde7c41",
   "metadata": {},
   "outputs": [
    {
     "name": "stdout",
     "output_type": "stream",
     "text": [
      " 0.00 -13.31 -19.44 -21.50 \n",
      "\n",
      "-13.69 -17.50 -19.50 -19.56 \n",
      "\n",
      "-19.56 -19.50 -17.50 -13.69 \n",
      "\n",
      "-21.50 -19.44 -13.31  0.00 \n",
      "\n"
     ]
    }
   ],
   "source": [
    "env.get_Vpi()"
   ]
  },
  {
   "cell_type": "markdown",
   "id": "b4732b8c-00b3-47bc-88fb-cb74b01b4ed3",
   "metadata": {},
   "source": [
    "#### Optimal Policy"
   ]
  },
  {
   "cell_type": "code",
   "execution_count": 188,
   "id": "40e24357-b268-47eb-98cb-4b26f7d1882c",
   "metadata": {},
   "outputs": [
    {
     "name": "stdout",
     "output_type": "stream",
     "text": [
      "o ← ← ← \n",
      "\n",
      "↑ ↑ ← ↓ \n",
      "\n",
      "↑ ↑ ↓ ↓ \n",
      "\n",
      "→ → → o \n",
      "\n"
     ]
    }
   ],
   "source": [
    "env.get_Policy()"
   ]
  }
 ],
 "metadata": {
  "kernelspec": {
   "display_name": "Python 3 (ipykernel)",
   "language": "python",
   "name": "python3"
  },
  "language_info": {
   "codemirror_mode": {
    "name": "ipython",
    "version": 3
   },
   "file_extension": ".py",
   "mimetype": "text/x-python",
   "name": "python",
   "nbconvert_exporter": "python",
   "pygments_lexer": "ipython3",
   "version": "3.12.2"
  }
 },
 "nbformat": 4,
 "nbformat_minor": 5
}
