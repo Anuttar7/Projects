{
 "cells": [
  {
   "cell_type": "markdown",
   "id": "b42115fe",
   "metadata": {},
   "source": [
    "### Data Extraction"
   ]
  },
  {
   "cell_type": "code",
   "execution_count": 1,
   "id": "240577d7",
   "metadata": {},
   "outputs": [],
   "source": [
    "import pandas as pd\n",
    "import numpy as np\n",
    "import matplotlib.pyplot as plt\n",
    "import pyomo.environ as pyo\n",
    "import time\n",
    "from itertools import chain, combinations"
   ]
  },
  {
   "cell_type": "code",
   "execution_count": 2,
   "id": "301e9cb5",
   "metadata": {},
   "outputs": [
    {
     "data": {
      "text/html": [
       "<div>\n",
       "<style scoped>\n",
       "    .dataframe tbody tr th:only-of-type {\n",
       "        vertical-align: middle;\n",
       "    }\n",
       "\n",
       "    .dataframe tbody tr th {\n",
       "        vertical-align: top;\n",
       "    }\n",
       "\n",
       "    .dataframe thead th {\n",
       "        text-align: right;\n",
       "    }\n",
       "</style>\n",
       "<table border=\"1\" class=\"dataframe\">\n",
       "  <thead>\n",
       "    <tr style=\"text-align: right;\">\n",
       "      <th></th>\n",
       "      <th>IIT</th>\n",
       "      <th>Latitude</th>\n",
       "      <th>Longitude</th>\n",
       "    </tr>\n",
       "  </thead>\n",
       "  <tbody>\n",
       "    <tr>\n",
       "      <th>0</th>\n",
       "      <td>IITKGP</td>\n",
       "      <td>22.3149</td>\n",
       "      <td>87.3105</td>\n",
       "    </tr>\n",
       "    <tr>\n",
       "      <th>1</th>\n",
       "      <td>IITB</td>\n",
       "      <td>19.1328</td>\n",
       "      <td>72.9153</td>\n",
       "    </tr>\n",
       "    <tr>\n",
       "      <th>2</th>\n",
       "      <td>IITM</td>\n",
       "      <td>12.9915</td>\n",
       "      <td>80.2337</td>\n",
       "    </tr>\n",
       "    <tr>\n",
       "      <th>3</th>\n",
       "      <td>IITK</td>\n",
       "      <td>26.5214</td>\n",
       "      <td>80.2321</td>\n",
       "    </tr>\n",
       "    <tr>\n",
       "      <th>4</th>\n",
       "      <td>IITD</td>\n",
       "      <td>28.5447</td>\n",
       "      <td>77.1862</td>\n",
       "    </tr>\n",
       "    <tr>\n",
       "      <th>5</th>\n",
       "      <td>IITG</td>\n",
       "      <td>26.1968</td>\n",
       "      <td>91.6755</td>\n",
       "    </tr>\n",
       "    <tr>\n",
       "      <th>6</th>\n",
       "      <td>IITR</td>\n",
       "      <td>28.0068</td>\n",
       "      <td>82.1585</td>\n",
       "    </tr>\n",
       "    <tr>\n",
       "      <th>7</th>\n",
       "      <td>IITRPR</td>\n",
       "      <td>30.9269</td>\n",
       "      <td>75.4918</td>\n",
       "    </tr>\n",
       "    <tr>\n",
       "      <th>8</th>\n",
       "      <td>IITBBS</td>\n",
       "      <td>20.1495</td>\n",
       "      <td>85.6685</td>\n",
       "    </tr>\n",
       "    <tr>\n",
       "      <th>9</th>\n",
       "      <td>IITGN</td>\n",
       "      <td>23.2132</td>\n",
       "      <td>72.6830</td>\n",
       "    </tr>\n",
       "    <tr>\n",
       "      <th>10</th>\n",
       "      <td>IITH</td>\n",
       "      <td>17.5910</td>\n",
       "      <td>78.1212</td>\n",
       "    </tr>\n",
       "    <tr>\n",
       "      <th>11</th>\n",
       "      <td>IITJ</td>\n",
       "      <td>26.4710</td>\n",
       "      <td>73.1108</td>\n",
       "    </tr>\n",
       "    <tr>\n",
       "      <th>12</th>\n",
       "      <td>IITP</td>\n",
       "      <td>25.5356</td>\n",
       "      <td>84.8487</td>\n",
       "    </tr>\n",
       "    <tr>\n",
       "      <th>13</th>\n",
       "      <td>IITI</td>\n",
       "      <td>22.5203</td>\n",
       "      <td>75.9181</td>\n",
       "    </tr>\n",
       "    <tr>\n",
       "      <th>14</th>\n",
       "      <td>IITMD</td>\n",
       "      <td>31.7789</td>\n",
       "      <td>76.9874</td>\n",
       "    </tr>\n",
       "    <tr>\n",
       "      <th>15</th>\n",
       "      <td>IITBHU</td>\n",
       "      <td>25.2530</td>\n",
       "      <td>82.9546</td>\n",
       "    </tr>\n",
       "    <tr>\n",
       "      <th>16</th>\n",
       "      <td>IITPKD</td>\n",
       "      <td>10.8048</td>\n",
       "      <td>76.7240</td>\n",
       "    </tr>\n",
       "    <tr>\n",
       "      <th>17</th>\n",
       "      <td>IITT</td>\n",
       "      <td>13.7071</td>\n",
       "      <td>79.5918</td>\n",
       "    </tr>\n",
       "    <tr>\n",
       "      <th>18</th>\n",
       "      <td>IITISM</td>\n",
       "      <td>23.8144</td>\n",
       "      <td>86.4386</td>\n",
       "    </tr>\n",
       "    <tr>\n",
       "      <th>19</th>\n",
       "      <td>IITBH</td>\n",
       "      <td>21.2469</td>\n",
       "      <td>81.3167</td>\n",
       "    </tr>\n",
       "    <tr>\n",
       "      <th>20</th>\n",
       "      <td>IITDH</td>\n",
       "      <td>15.4870</td>\n",
       "      <td>74.9319</td>\n",
       "    </tr>\n",
       "    <tr>\n",
       "      <th>21</th>\n",
       "      <td>IITJMU</td>\n",
       "      <td>32.8034</td>\n",
       "      <td>74.8936</td>\n",
       "    </tr>\n",
       "    <tr>\n",
       "      <th>22</th>\n",
       "      <td>IITGOA</td>\n",
       "      <td>15.4226</td>\n",
       "      <td>73.9766</td>\n",
       "    </tr>\n",
       "  </tbody>\n",
       "</table>\n",
       "</div>"
      ],
      "text/plain": [
       "       IIT  Latitude  Longitude\n",
       "0   IITKGP   22.3149    87.3105\n",
       "1     IITB   19.1328    72.9153\n",
       "2     IITM   12.9915    80.2337\n",
       "3     IITK   26.5214    80.2321\n",
       "4     IITD   28.5447    77.1862\n",
       "5     IITG   26.1968    91.6755\n",
       "6     IITR   28.0068    82.1585\n",
       "7   IITRPR   30.9269    75.4918\n",
       "8   IITBBS   20.1495    85.6685\n",
       "9    IITGN   23.2132    72.6830\n",
       "10    IITH   17.5910    78.1212\n",
       "11    IITJ   26.4710    73.1108\n",
       "12    IITP   25.5356    84.8487\n",
       "13    IITI   22.5203    75.9181\n",
       "14   IITMD   31.7789    76.9874\n",
       "15  IITBHU   25.2530    82.9546\n",
       "16  IITPKD   10.8048    76.7240\n",
       "17    IITT   13.7071    79.5918\n",
       "18  IITISM   23.8144    86.4386\n",
       "19   IITBH   21.2469    81.3167\n",
       "20   IITDH   15.4870    74.9319\n",
       "21  IITJMU   32.8034    74.8936\n",
       "22  IITGOA   15.4226    73.9766"
      ]
     },
     "execution_count": 2,
     "metadata": {},
     "output_type": "execute_result"
    }
   ],
   "source": [
    "df = pd.read_csv(\"/home/anuttar/Desktop/Assignments/IE647_Assignment3/iit.csv\")\n",
    "df = df.rename(columns={\"#IIT\": \"IIT\"})\n",
    "df"
   ]
  },
  {
   "cell_type": "code",
   "execution_count": 3,
   "id": "fc535d5c",
   "metadata": {},
   "outputs": [
    {
     "name": "stdout",
     "output_type": "stream",
     "text": [
      "Number of IITs to be visited (n):  23\n"
     ]
    }
   ],
   "source": [
    "print(\"Number of IITs to be visited (n): \", df.shape[0])\n",
    "n = df.shape[0]"
   ]
  },
  {
   "cell_type": "markdown",
   "id": "24cbde14",
   "metadata": {},
   "source": [
    "### Cost Computation"
   ]
  },
  {
   "cell_type": "code",
   "execution_count": 4,
   "id": "9ac7153a",
   "metadata": {},
   "outputs": [],
   "source": [
    "def euclidean_distance (iit1, iit2):\n",
    "    delta_lat = df[\"Latitude\"][iit1] - df[\"Latitude\"][iit2]\n",
    "    delta_long = df[\"Longitude\"][iit1] - df[\"Longitude\"][iit2]\n",
    "    dist = 110 * np.sqrt(delta_lat**2 + delta_long**2)\n",
    "    return dist"
   ]
  },
  {
   "cell_type": "code",
   "execution_count": 5,
   "id": "0aa1c7a4",
   "metadata": {},
   "outputs": [],
   "source": [
    "C = np.zeros((n, n))\n",
    "\n",
    "for i in range(n):\n",
    "    for j in range(n):\n",
    "        C[i][j] = euclidean_distance(i, j)"
   ]
  },
  {
   "cell_type": "markdown",
   "id": "fb41734d",
   "metadata": {},
   "source": [
    "## Model 1: DFJ Model\n",
    "#### Variables Used"
   ]
  },
  {
   "cell_type": "markdown",
   "id": "5b75b091",
   "metadata": {},
   "source": [
    "$D = (V, A)$ : Directed Graph with Vertex Set $V$ and directed edges set $A$ <br>\n",
    "$c_a$ : Cost associated with edge $a$ <br>\n",
    "$x_a$ : Binary Variable that is equal to 1 if we pick edge $a$ and 0 otherwise <br>\n",
    "$\\delta^{+}(v)$ : Set of all outgoing edges from vertex $v$ <br>\n",
    "$\\delta^{-}(v)$ : Set of all incoming edges from vertex $v$ <br>"
   ]
  },
  {
   "cell_type": "markdown",
   "id": "263741ff",
   "metadata": {},
   "source": [
    "#### Model"
   ]
  },
  {
   "cell_type": "markdown",
   "id": "566ae0f1",
   "metadata": {},
   "source": [
    "$\n",
    "\\min \\sum_{a \\in A} c_a x_a  \\quad  s.t.\n",
    "$\n",
    "<br><br>\n",
    "\n",
    "$\n",
    "\\sum_{a \\in \\delta^+(i)} x_a = 1 \\quad \\forall \\ i \\in V\n",
    "$\n",
    "\n",
    "$\n",
    "\\sum_{a \\in \\delta^-(i)} x_a = 1 \\quad \\forall \\ i \\in V\n",
    "$\n",
    "\n",
    "$\n",
    "\\sum_{a \\in \\delta^+(S)} x_a \\geq 1 \\quad \\forall \\ \\emptyset \\subset S \\subset V \\quad (subtour \\ elimination \\ constraints)\n",
    "$\n",
    "\n",
    "$\n",
    "x_a \\in \\{0,1\\} \\quad \\forall \\ a \\in A.\n",
    "$\n"
   ]
  },
  {
   "cell_type": "markdown",
   "id": "0c308d84",
   "metadata": {},
   "source": [
    "### Solution for Exact Integer Programming Problem\n",
    "Solver Used: CBC"
   ]
  },
  {
   "cell_type": "markdown",
   "id": "f40e03e2",
   "metadata": {},
   "source": [
    "#### Without Subtour Elimination Constraints"
   ]
  },
  {
   "cell_type": "code",
   "execution_count": 6,
   "id": "2afd9046",
   "metadata": {},
   "outputs": [
    {
     "name": "stdout",
     "output_type": "stream",
     "text": [
      "Status: ok\n",
      "Termination Condition: optimal\n",
      "Optimal Objective: 7973.315913919976\n",
      "Time taken:  0.06406235694885254  seconds\n"
     ]
    }
   ],
   "source": [
    "start_time = time.time()\n",
    "\n",
    "#Define Model\n",
    "model = pyo.ConcreteModel()\n",
    "\n",
    "#Define Variables\n",
    "model.X = pyo.Var(range(n), range(n), within=pyo.Binary)\n",
    "\n",
    "#Define Objective Function\n",
    "model.obj = pyo.Objective(expr = sum(sum(C * model.X)), sense = pyo.minimize)\n",
    "\n",
    "#Define Constraints\n",
    "model.constraints = pyo.ConstraintList()\n",
    "for i in range(n):\n",
    "    model.constraints.add(sum(model.X[i, j] for j in range(n)) == 1)\n",
    "\n",
    "for j in range(n):\n",
    "    model.constraints.add(sum(model.X[i, j] for i in range(n)) == 1)\n",
    "    \n",
    "for i in range(n):\n",
    "    model.constraints.add(model.X[i, i] == 0)\n",
    "\n",
    "# Select solver\n",
    "solver = pyo.SolverFactory('cbc')\n",
    "# solver.options[\"seconds\"] = 100\n",
    "# solver.options[\"maxIterations\"] = 1000000000\n",
    "\n",
    "# Solve the problem\n",
    "result = solver.solve(model)\n",
    "\n",
    "# Display results\n",
    "print('Status:', result.solver.status)\n",
    "print('Termination Condition:', result.solver.termination_condition)\n",
    "print('Optimal Objective:', pyo.value(model.obj))\n",
    "\n",
    "end_time = time.time()\n",
    "print(\"Time taken: \", end_time - start_time, \" seconds\")"
   ]
  },
  {
   "cell_type": "markdown",
   "id": "ffbf433e",
   "metadata": {},
   "source": [
    "#### Adding Subtour Elimination Constraints"
   ]
  },
  {
   "cell_type": "markdown",
   "id": "b672119a",
   "metadata": {},
   "source": [
    "Generating Power set"
   ]
  },
  {
   "cell_type": "code",
   "execution_count": 7,
   "id": "d8574ff1",
   "metadata": {},
   "outputs": [],
   "source": [
    "def powerset(A):\n",
    "    s = list(A)\n",
    "    return list(chain.from_iterable(combinations(s, r) for r in range(len(s) + 1)))"
   ]
  },
  {
   "cell_type": "code",
   "execution_count": 8,
   "id": "af76735c",
   "metadata": {},
   "outputs": [
    {
     "name": "stdout",
     "output_type": "stream",
     "text": [
      "Number of IITs in the largest subtour that I am considering:  23\n",
      "Power Set Size:  8388606\n"
     ]
    }
   ],
   "source": [
    "S = list(range(0, n, 1))\n",
    "pS = powerset(S)\n",
    "pS.remove(())\n",
    "pS.remove(tuple(S))\n",
    "print(\"Number of IITs in the largest subtour that I am considering: \", len(S))\n",
    "print(\"Power Set Size: \", len(pS))"
   ]
  },
  {
   "cell_type": "markdown",
   "id": "887a3b48",
   "metadata": {},
   "source": [
    "Adding all the subtour elimination constraints are expected to take about <b>7 Years</b> to finish computation, if we add constraints one by one and compute after each addition. Therefore, I am only considering subsets of <b>atmost size 5</b> for subtour elimination, which is expected to take roughly <b>30 minutes</b> to compute and give a plot of Cost vs Number of Subtour Elimination Constraints at the end."
   ]
  },
  {
   "cell_type": "markdown",
   "id": "5bbaf726",
   "metadata": {},
   "source": [
    "Adding Constraints and Solving"
   ]
  },
  {
   "cell_type": "code",
   "execution_count": 20,
   "id": "be4e9d5a",
   "metadata": {},
   "outputs": [
    {
     "name": "stdout",
     "output_type": "stream",
     "text": [
      "Status Update:  100 / 8388606   |  Time:  0  min\n",
      "Status Update:  200 / 8388606   |  Time:  0  min\n",
      "Status Update:  300 / 8388606   |  Time:  0  min\n",
      "Status Update:  400 / 8388606   |  Time:  0  min\n",
      "Status Update:  500 / 8388606   |  Time:  0  min\n",
      "Status Update:  600 / 8388606   |  Time:  0  min\n",
      "Status Update:  700 / 8388606   |  Time:  0  min\n",
      "Status Update:  800 / 8388606   |  Time:  0  min\n",
      "Status Update:  900 / 8388606   |  Time:  1  min\n",
      "Status Update:  1000 / 8388606   |  Time:  1  min\n",
      "Status Update:  1100 / 8388606   |  Time:  1  min\n",
      "Status Update:  1200 / 8388606   |  Time:  1  min\n",
      "Status Update:  1300 / 8388606   |  Time:  2  min\n",
      "Status Update:  1400 / 8388606   |  Time:  2  min\n",
      "Status Update:  1500 / 8388606   |  Time:  2  min\n",
      "Status Update:  1600 / 8388606   |  Time:  3  min\n",
      "Status Update:  1700 / 8388606   |  Time:  3  min\n",
      "Status Update:  1800 / 8388606   |  Time:  3  min\n",
      "Status Update:  1900 / 8388606   |  Time:  4  min\n",
      "Status Update:  2000 / 8388606   |  Time:  4  min\n",
      "Status Update:  2100 / 8388606   |  Time:  5  min\n",
      "Status Update:  2200 / 8388606   |  Time:  5  min\n",
      "Status Update:  2300 / 8388606   |  Time:  6  min\n",
      "Status Update:  2400 / 8388606   |  Time:  6  min\n",
      "Status Update:  2500 / 8388606   |  Time:  7  min\n",
      "Status Update:  2600 / 8388606   |  Time:  8  min\n",
      "Status Update:  2700 / 8388606   |  Time:  8  min\n",
      "Status Update:  2800 / 8388606   |  Time:  9  min\n",
      "Status Update:  2900 / 8388606   |  Time:  10  min\n",
      "Status Update:  3000 / 8388606   |  Time:  10  min\n",
      "Status Update:  3100 / 8388606   |  Time:  11  min\n",
      "Status Update:  3200 / 8388606   |  Time:  12  min\n",
      "Status Update:  3300 / 8388606   |  Time:  13  min\n",
      "Status Update:  3400 / 8388606   |  Time:  14  min\n",
      "Status Update:  3500 / 8388606   |  Time:  15  min\n",
      "Status Update:  3600 / 8388606   |  Time:  16  min\n",
      "Status Update:  3700 / 8388606   |  Time:  17  min\n",
      "Status Update:  3800 / 8388606   |  Time:  18  min\n",
      "Status Update:  3900 / 8388606   |  Time:  19  min\n",
      "Status Update:  4000 / 8388606   |  Time:  20  min\n",
      "Status Update:  4100 / 8388606   |  Time:  21  min\n",
      "Status Update:  4200 / 8388606   |  Time:  22  min\n",
      "Status Update:  4300 / 8388606   |  Time:  23  min\n",
      "Status Update:  4400 / 8388606   |  Time:  24  min\n",
      "Status Update:  4500 / 8388606   |  Time:  26  min\n",
      "Status Update:  4600 / 8388606   |  Time:  27  min\n",
      "Status Update:  4700 / 8388606   |  Time:  30  min\n",
      "Time taken:  31  min\n"
     ]
    },
    {
     "data": {
      "text/plain": [
       "[<matplotlib.lines.Line2D at 0x73c86ae1b650>]"
      ]
     },
     "execution_count": 20,
     "metadata": {},
     "output_type": "execute_result"
    },
    {
     "data": {
      "image/png": "[encoded data removed]",
      "text/plain": [
       "<Figure size 640x480 with 1 Axes>"
      ]
     },
     "metadata": {},
     "output_type": "display_data"
    }
   ],
   "source": [
    "start_time = time.time()\n",
    "\n",
    "useful_list = []\n",
    "    \n",
    "#Define Model\n",
    "model = pyo.ConcreteModel()\n",
    "\n",
    "#Define Variables\n",
    "model.X = pyo.Var(range(n), range(n), within=pyo.Binary)\n",
    "\n",
    "#Define Objective Function\n",
    "model.obj = pyo.Objective(expr = sum(sum(C * model.X)), sense = pyo.minimize)\n",
    "\n",
    "#Define Constraints\n",
    "model.constraints = pyo.ConstraintList()\n",
    "for i in range(n):\n",
    "    model.constraints.add(sum(model.X[i, j] for j in range(n)) == 1)\n",
    "\n",
    "for j in range(n):\n",
    "    model.constraints.add(sum(model.X[i, j] for i in range(n)) == 1)\n",
    "\n",
    "for i in range(n):\n",
    "    model.constraints.add(model.X[i, i] == 0)\n",
    "\n",
    "#Adding Subtour Elimination Constraints\n",
    "count = 0\n",
    "for u in pS:\n",
    "    count += 1\n",
    "    \n",
    "    model.constraints.add(sum(sum(model.X[i, j] for j in range(n)) for i in u) >= 1)\n",
    "\n",
    "    # Select solver\n",
    "    solver = pyo.SolverFactory('cbc')\n",
    "#     solver.options[\"seconds\"] = 100\n",
    "\n",
    "    # Solve the problem\n",
    "    result = solver.solve(model)\n",
    "    \n",
    "    useful_list.append(pyo.value(model.obj))\n",
    "    if (count % 100 == 0):\n",
    "        end_time = time.time()\n",
    "        print(\"Status Update: \", count, \"/\", len(pS), \"  |  Time: \", int((end_time - start_time)/60), \" min\")\n",
    "    \n",
    "    if (int((time.time() - start_time)/60) > 30):\n",
    "        break\n",
    "\n",
    "\n",
    "end_time = time.time()\n",
    "print(\"Time taken: \", int((end_time - start_time)/60), \" min\")\n",
    "\n",
    "x = np.linspace(1, len(useful_list), len(useful_list))\n",
    "plt.plot(x, useful_list)"
   ]
  },
  {
   "cell_type": "markdown",
   "id": "eb3aeeae-9c9d-4d11-a2df-dfc9f89f7019",
   "metadata": {},
   "source": [
    "### Solution for LP Relaxation Problem"
   ]
  },
  {
   "cell_type": "code",
   "execution_count": 17,
   "id": "c817caa5-2e5d-4a57-aa35-1dd728e4fe1b",
   "metadata": {},
   "outputs": [
    {
     "name": "stdout",
     "output_type": "stream",
     "text": [
      "Status: ok\n",
      "Termination Condition: optimal\n",
      "Optimal Objective: 7973.312134685812\n",
      "Time taken:  23.497649431228638 seconds\n"
     ]
    }
   ],
   "source": [
    "start_time = time.time()\n",
    "    \n",
    "#Define Model\n",
    "model = pyo.ConcreteModel()\n",
    "\n",
    "#Define Variables\n",
    "model.X = pyo.Var(range(n), range(n), within=pyo.NonNegativeReals, bounds=(0,1))\n",
    "\n",
    "#Define Objective Function\n",
    "model.obj = pyo.Objective(expr = sum(sum(C * model.X)), sense = pyo.minimize)\n",
    "\n",
    "#Define Constraints\n",
    "model.constraints = pyo.ConstraintList()\n",
    "for i in range(n):\n",
    "    model.constraints.add(sum(model.X[i, j] for j in range(n)) == 1)\n",
    "\n",
    "for j in range(n):\n",
    "    model.constraints.add(sum(model.X[i, j] for i in range(n)) == 1)\n",
    "\n",
    "for i in range(n):\n",
    "    model.constraints.add(model.X[i, i] == 0)\n",
    "\n",
    "#Adding Subtour Elimination Constraints\n",
    "for u in pS[:10000]:\n",
    "    model.constraints.add(sum(sum(model.X[i, j] for j in range(n)) for i in u) >= 1)\n",
    "\n",
    "# Select solver\n",
    "solver = pyo.SolverFactory('ipopt')\n",
    "\n",
    "# Solve the problem\n",
    "result = solver.solve(model)\n",
    "\n",
    "# Display results\n",
    "print('Status:', result.solver.status)\n",
    "print('Termination Condition:', result.solver.termination_condition)\n",
    "print('Optimal Objective:', pyo.value(model.obj))\n",
    "\n",
    "end_time = time.time()\n",
    "print(\"Time taken: \", end_time - start_time, \"seconds\")"
   ]
  },
  {
   "cell_type": "markdown",
   "id": "540b43ed",
   "metadata": {},
   "source": [
    "## Model 2: MTZ Formulation"
   ]
  },
  {
   "cell_type": "markdown",
   "id": "e7a6a23d",
   "metadata": {},
   "source": [
    "#### Variables Used\n",
    "$D = (V, A)$ : Directed Graph with Vertex Set $V$ and directed edges set $A$ <br>\n",
    "$n$ : Number of IITs/Vertices ($n = 23$)<br>\n",
    "$c_a$ : Cost associated with edge $a$ <br>\n",
    "$x_a$ : Binary Variable that is equal to 1 if we pick edge $a$ and 0 otherwise <br>\n",
    "$\\delta^{+}(v)$ : Set of all outgoing edges from vertex $v$ <br>\n",
    "$\\delta^{-}(v)$ : Set of all incoming edges from vertex $v$ <br>\n",
    "$u_i$ : Denotes the position in the Hamiltonian tour ($ 1 <= u_i <= 23 $)"
   ]
  },
  {
   "cell_type": "markdown",
   "id": "a7aefcd4",
   "metadata": {},
   "source": [
    "#### Model\n",
    "$\n",
    "\\min \\sum_{a \\in A} c_a x_a  \\quad  s.t.\n",
    "$\n",
    "<br><br>\n",
    "$\n",
    "\\sum_{a \\in \\delta^+(i)} x_a = 1 \\quad \\forall \\ i \\in V\n",
    "$\n",
    "\n",
    "$\n",
    "\\sum_{a \\in \\delta^-(i)} x_a = 1 \\quad \\forall \\ i \\in V\n",
    "$\n",
    "\n",
    "$\n",
    "u_i - u_j + 1 \\leq n(1 - x_{ij}) \\quad \\text{for all } ij \\in A, \\; i, j \\neq 1. \\quad (subtour \\ elimination \\ constraints)\n",
    "$\n",
    "\n",
    "$\n",
    "x_a \\in \\{0,1\\} \\quad \\forall \\ a \\in A.\n",
    "$"
   ]
  },
  {
   "cell_type": "markdown",
   "id": "e5ed180c",
   "metadata": {},
   "source": [
    "#### Solution for Exact Integer Programming Problem"
   ]
  },
  {
   "cell_type": "code",
   "execution_count": 28,
   "id": "d7649ad0",
   "metadata": {},
   "outputs": [
    {
     "name": "stdout",
     "output_type": "stream",
     "text": [
      "WARNING: Loading a SolverResults object with an 'aborted' status, but\n",
      "containing a solution\n",
      "Status: aborted\n",
      "Termination Condition: intermediateNonInteger\n",
      "Optimal Objective: 8010.7608693006705\n",
      "Time taken:  301.6949374675751  seconds\n"
     ]
    }
   ],
   "source": [
    "start_time = time.time()\n",
    "\n",
    "#Initialisation\n",
    "u = np.zeros(n)\n",
    "\n",
    "#Define Model\n",
    "model = pyo.ConcreteModel()\n",
    "\n",
    "#Define Variables\n",
    "model.X = pyo.Var(range(n), range(n), within=pyo.Binary)\n",
    "model.u = pyo.Var(range(n), within=pyo.Integers, bounds=(1,24))\n",
    "\n",
    "#Define Objective Function\n",
    "model.obj = pyo.Objective(expr = sum(sum(C * model.X)), sense = pyo.minimize)\n",
    "\n",
    "#Define Constraints\n",
    "model.constraints = pyo.ConstraintList()\n",
    "for i in range(n):\n",
    "    model.constraints.add(sum(model.X[i, j] for j in range(n)) == 1)\n",
    "\n",
    "for j in range(n):\n",
    "    model.constraints.add(sum(model.X[i, j] for i in range(n)) == 1)\n",
    "    \n",
    "for i in range(n):\n",
    "    model.constraints.add(model.X[i, i] == 0)\n",
    "\n",
    "#Adding Subtour Elimination Constraints\n",
    "for i in range(n):\n",
    "    for j in range(n):\n",
    "        if (i == j):\n",
    "            continue\n",
    "        model.constraints.add(model.u[i] - model.u[j] + 1 <= n*(1 - model.X[i, j]))\n",
    "    \n",
    "# Select solver\n",
    "solver = pyo.SolverFactory('cbc')\n",
    "solver.options['seconds'] = 300\n",
    "\n",
    "# Solve the problem\n",
    "result = solver.solve(model)\n",
    "\n",
    "# Display results\n",
    "print('Status:', result.solver.status)\n",
    "print('Termination Condition:', result.solver.termination_condition)\n",
    "print('Optimal Objective:', pyo.value(model.obj))\n",
    "\n",
    "end_time = time.time()\n",
    "print(\"Time taken: \", end_time - start_time, \" seconds\")"
   ]
  },
  {
   "cell_type": "markdown",
   "id": "6de1e598-0919-4765-a1cd-9cb213657792",
   "metadata": {},
   "source": [
    "#### Solution for LP Relaxation Problem"
   ]
  },
  {
   "cell_type": "code",
   "execution_count": 29,
   "id": "e2c3501a-0bf1-465b-ad89-99e6979ade34",
   "metadata": {},
   "outputs": [
    {
     "name": "stdout",
     "output_type": "stream",
     "text": [
      "Status: ok\n",
      "Termination Condition: optimal\n",
      "Optimal Objective: 8010.757017171542\n",
      "Time taken:  0.08129596710205078  seconds\n"
     ]
    }
   ],
   "source": [
    "start_time = time.time()\n",
    "\n",
    "#Initialisation\n",
    "u = np.zeros(n)\n",
    "\n",
    "#Define Model\n",
    "model = pyo.ConcreteModel()\n",
    "\n",
    "#Define Variables\n",
    "model.X = pyo.Var(range(n), range(n), within=pyo.NonNegativeReals)\n",
    "model.u = pyo.Var(range(n), within=pyo.NonNegativeReals, bounds=(1,24))\n",
    "\n",
    "#Define Objective Function\n",
    "model.obj = pyo.Objective(expr = sum(sum(C * model.X)), sense = pyo.minimize)\n",
    "\n",
    "#Define Constraints\n",
    "model.constraints = pyo.ConstraintList()\n",
    "for i in range(n):\n",
    "    model.constraints.add(sum(model.X[i, j] for j in range(n)) == 1)\n",
    "\n",
    "for j in range(n):\n",
    "    model.constraints.add(sum(model.X[i, j] for i in range(n)) == 1)\n",
    "    \n",
    "for i in range(n):\n",
    "    model.constraints.add(model.X[i, i] == 0)\n",
    "\n",
    "#Adding Subtour Elimination Constraints\n",
    "for i in range(n):\n",
    "    for j in range(n):\n",
    "        if (i == j):\n",
    "            continue\n",
    "        model.constraints.add(model.u[i] - model.u[j] + 1 <= n*(1 - model.X[i, j]))\n",
    "    \n",
    "# Select solver\n",
    "solver = pyo.SolverFactory('ipopt')\n",
    "\n",
    "# Solve the problem\n",
    "result = solver.solve(model)\n",
    "\n",
    "# Display results\n",
    "print('Status:', result.solver.status)\n",
    "print('Termination Condition:', result.solver.termination_condition)\n",
    "print('Optimal Objective:', pyo.value(model.obj))\n",
    "\n",
    "end_time = time.time()\n",
    "print(\"Time taken: \", end_time - start_time, \" seconds\")"
   ]
  },
  {
   "cell_type": "markdown",
   "id": "bcbc18e1",
   "metadata": {},
   "source": [
    "## Model 3: 3 Index Model"
   ]
  },
  {
   "cell_type": "markdown",
   "id": "3c17fb3c",
   "metadata": {},
   "source": [
    "#### Variables Used\n",
    "$D = (V,A)$ : D is a directed Graph with vertex set $V$ and set of directed edges $A$ <br>\n",
    "$X_{ijk}$ : $X$ is a binary variable that is equal to 1 iff the edge $ij$ is the $k^{th}$ edge in the Hamiltonian tour <br>\n",
    "$C_a$ : Cost for edge $a$ <br>\n",
    "$\\delta^{+}(v)$ : set of outgoing edges from vertex $v$ <br>\n",
    "$\\delta^{-}(v)$ : set of incoming edges from vertex $v$ <br>"
   ]
  },
  {
   "cell_type": "markdown",
   "id": "4b6528a1",
   "metadata": {},
   "source": [
    "#### Model\n",
    "$\n",
    "\\min \\sum_{a \\in A} \\sum_{k} c_a x_{ak} \\quad s.t.\n",
    "$\n",
    "<br><br>\n",
    "$\n",
    "\\sum_{a \\in \\delta^+(i)} \\sum_{k} x_{ak} = 1 \\quad \\forall i = 1, \\dots, n\n",
    "$\n",
    "\n",
    "$\n",
    "\\sum_{a \\in \\delta^-(i)} \\sum_{k} x_{ak} = 1 \\quad \\forall i = 1, \\dots, n\n",
    "$\n",
    "\n",
    "$\n",
    "\\sum_{a \\in A} x_{ak} = 1 \\quad \\forall k = 1, \\dots, n\n",
    "$\n",
    "\n",
    "$\n",
    "\\sum_{a \\in \\delta^-(i)} x_{ak} = \\sum_{a \\in \\delta^+(i)} x_{a,k+1} \\quad \\forall i = 1, \\dots, n \\text{ and } k = 1, \\dots, n-1\n",
    "$\n",
    "\n",
    "$\n",
    "\\sum_{a \\in \\delta^-(1)} x_{an} = \\sum_{a \\in \\delta^+(1)} x_{a1} = 1\n",
    "$\n",
    "\n",
    "$\n",
    "x_{ak} = 0 \\text{ or } 1 \\quad \\forall a \\in A, k = 1, \\dots, n.\n",
    "$\n"
   ]
  },
  {
   "cell_type": "markdown",
   "id": "efda1e41",
   "metadata": {},
   "source": [
    "#### Solution For Exact Integer Programming Problem"
   ]
  },
  {
   "cell_type": "code",
   "execution_count": 23,
   "id": "c5eaa236",
   "metadata": {},
   "outputs": [
    {
     "name": "stdout",
     "output_type": "stream",
     "text": [
      "Status: ok\n",
      "Termination Condition: optimal\n",
      "Optimal Objective: 8762.97742252097\n",
      "Time taken:  4.099977970123291  seconds\n"
     ]
    }
   ],
   "source": [
    "start_time = time.time()\n",
    "\n",
    "#Initialisation\n",
    "u = np.zeros(n)\n",
    "\n",
    "#Define Model\n",
    "model = pyo.ConcreteModel()\n",
    "\n",
    "#Define Variables\n",
    "model.X = pyo.Var(range(n), range(n), range(1,n+1,1), within=pyo.Binary)\n",
    "\n",
    "#Define Objective Function\n",
    "model.obj = pyo.Objective(expr = sum(sum(sum(C[i,j] * model.X[i,j,k] for k in range(1,n+1,1)) for j in range(n)) for i in range(n)), sense = pyo.minimize)\n",
    "\n",
    "#Define Constraints\n",
    "model.constraints = pyo.ConstraintList()\n",
    "for i in range(n):\n",
    "    model.constraints.add(sum(sum(model.X[i, j, k] for k in range(1,n+1,1)) for j in range(n)) == 1)\n",
    "\n",
    "for j in range(n):\n",
    "    model.constraints.add(sum(sum(model.X[i, j, k] for k in range(1,n+1,1)) for i in range(n)) == 1)\n",
    "    \n",
    "for i in range(n):\n",
    "    for k in range(1,n+1,1):\n",
    "        model.constraints.add(model.X[i, i, k] == 0)\n",
    "\n",
    "for k in range(1,n+1,1):\n",
    "    model.constraints.add(sum(sum(model.X[i,j,k] for i in range(n)) for j in range(n)) == 1)\n",
    "\n",
    "for i in range(n):\n",
    "    for k in range(1,n,1):\n",
    "        model.constraints.add(sum(model.X[j,i,k] for j in range(n)) == sum(model.X[i,j,k+1] for j in range(n)))\n",
    "\n",
    "model.constraints.add(sum(model.X[i,0,n] for i in range(n)) == 1)\n",
    "model.constraints.add(sum(model.X[0,j,1] for j in range(n)) == 1)\n",
    "    \n",
    "# Select solver\n",
    "solver = pyo.SolverFactory('cbc')\n",
    "\n",
    "# Solve the problem\n",
    "result = solver.solve(model)\n",
    "\n",
    "# Display results\n",
    "print('Status:', result.solver.status)\n",
    "print('Termination Condition:', result.solver.termination_condition)\n",
    "print('Optimal Objective:', pyo.value(model.obj))\n",
    "\n",
    "end_time = time.time()\n",
    "print(\"Time taken: \", end_time - start_time, \" seconds\")"
   ]
  },
  {
   "cell_type": "markdown",
   "id": "b47c9571-66fe-4e8c-bcd5-18252e242035",
   "metadata": {},
   "source": [
    "#### Solution for LP Relaxation Problem"
   ]
  },
  {
   "cell_type": "code",
   "execution_count": 27,
   "id": "467b30bd-ccae-4c62-b311-381dce71c471",
   "metadata": {},
   "outputs": [
    {
     "name": "stdout",
     "output_type": "stream",
     "text": [
      "Status: ok\n",
      "Termination Condition: optimal\n",
      "Optimal Objective: 8272.650797085898\n",
      "Time taken:  3.0214779376983643  seconds\n"
     ]
    }
   ],
   "source": [
    "start_time = time.time()\n",
    "\n",
    "#Initialisation\n",
    "u = np.zeros(n)\n",
    "\n",
    "#Define Model\n",
    "model = pyo.ConcreteModel()\n",
    "\n",
    "#Define Variables\n",
    "model.X = pyo.Var(range(n), range(n), range(1,n+1,1), within=pyo.NonNegativeReals)\n",
    "\n",
    "#Define Objective Function\n",
    "model.obj = pyo.Objective(expr = sum(sum(sum(C[i,j] * model.X[i,j,k] for k in range(1,n+1,1)) for j in range(n)) for i in range(n)), sense = pyo.minimize)\n",
    "\n",
    "#Define Constraints\n",
    "model.constraints = pyo.ConstraintList()\n",
    "for i in range(n):\n",
    "    model.constraints.add(sum(sum(model.X[i, j, k] for k in range(1,n+1,1)) for j in range(n)) == 1)\n",
    "\n",
    "for j in range(n):\n",
    "    model.constraints.add(sum(sum(model.X[i, j, k] for k in range(1,n+1,1)) for i in range(n)) == 1)\n",
    "    \n",
    "for i in range(n):\n",
    "    for k in range(1,n+1,1):\n",
    "        model.constraints.add(model.X[i, i, k] == 0)\n",
    "\n",
    "for k in range(1,n+1,1):\n",
    "    model.constraints.add(sum(sum(model.X[i,j,k] for i in range(n)) for j in range(n)) == 1)\n",
    "\n",
    "for i in range(n):\n",
    "    for k in range(1,n,1):\n",
    "        model.constraints.add(sum(model.X[j,i,k] for j in range(n)) == sum(model.X[i,j,k+1] for j in range(n)))\n",
    "\n",
    "model.constraints.add(sum(model.X[i,0,n] for i in range(n)) == 1)\n",
    "model.constraints.add(sum(model.X[0,j,1] for j in range(n)) == 1)\n",
    "    \n",
    "# Select solver\n",
    "solver = pyo.SolverFactory('ipopt')\n",
    "\n",
    "# Solve the problem\n",
    "result = solver.solve(model)\n",
    "\n",
    "# Display results\n",
    "print('Status:', result.solver.status)\n",
    "print('Termination Condition:', result.solver.termination_condition)\n",
    "print('Optimal Objective:', pyo.value(model.obj))\n",
    "\n",
    "end_time = time.time()\n",
    "print(\"Time taken: \", end_time - start_time, \" seconds\")"
   ]
  },
  {
   "cell_type": "markdown",
   "id": "f780090d-bca0-4ab6-9b2e-8321d5b8e708",
   "metadata": {},
   "source": [
    "## Comparison"
   ]
  },
  {
   "cell_type": "markdown",
   "id": "ad8b072a-6404-4bd4-a8a7-0f2b34e487ab",
   "metadata": {},
   "source": [
    "In the DFJ Model and the MTZ Model, the same results were obtained by LP Relaxation at a really fast rate (in seconds).<br>\n",
    "The 3 Index Model proved to be the fastest among the 3 models and was able to solve the Travelling Salesman Problem with all the constraints at a really fast rate. <br>\n",
    "With 3 Index model, I came to realise that the LP Relaxation solution as well as the solutions provided by the other models have been incorrect. This means that there exists a subtour taken by the Algorithm to minimise the total cost, due to which the path taken is not a Hamiltonian tour. Therefore, we need to eliminate all the subtour possibility in order to conclude that the solution is correct."
   ]
  }
 ],
 "metadata": {
  "kernelspec": {
   "display_name": "Python 3 (ipykernel)",
   "language": "python",
   "name": "python3"
  },
  "language_info": {
   "codemirror_mode": {
    "name": "ipython",
    "version": 3
   },
   "file_extension": ".py",
   "mimetype": "text/x-python",
   "name": "python",
   "nbconvert_exporter": "python",
   "pygments_lexer": "ipython3",
   "version": "3.12.2"
  }
 },
 "nbformat": 4,
 "nbformat_minor": 5
}
