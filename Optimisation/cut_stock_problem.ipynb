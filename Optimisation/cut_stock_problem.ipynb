{
 "cells": [
  {
   "cell_type": "markdown",
   "id": "e515f320",
   "metadata": {},
   "source": [
    "### Data Extraction"
   ]
  },
  {
   "cell_type": "code",
   "execution_count": 1,
   "id": "dcc9da2d",
   "metadata": {},
   "outputs": [],
   "source": [
    "import pandas as pd\n",
    "import numpy as np\n",
    "import pyomo.environ as pyo\n",
    "import time"
   ]
  },
  {
   "cell_type": "code",
   "execution_count": 3,
   "id": "92ee587c",
   "metadata": {},
   "outputs": [
    {
     "name": "stdout",
     "output_type": "stream",
     "text": [
      "Total Number of Orders:  61\n"
     ]
    },
    {
     "data": {
      "text/html": [
       "<div>\n",
       "<style scoped>\n",
       "    .dataframe tbody tr th:only-of-type {\n",
       "        vertical-align: middle;\n",
       "    }\n",
       "\n",
       "    .dataframe tbody tr th {\n",
       "        vertical-align: top;\n",
       "    }\n",
       "\n",
       "    .dataframe thead th {\n",
       "        text-align: right;\n",
       "    }\n",
       "</style>\n",
       "<table border=\"1\" class=\"dataframe\">\n",
       "  <thead>\n",
       "    <tr style=\"text-align: right;\">\n",
       "      <th></th>\n",
       "      <th>width</th>\n",
       "      <th>demand</th>\n",
       "    </tr>\n",
       "  </thead>\n",
       "  <tbody>\n",
       "    <tr>\n",
       "      <th>0</th>\n",
       "      <td>1000</td>\n",
       "      <td>706</td>\n",
       "    </tr>\n",
       "    <tr>\n",
       "      <th>1</th>\n",
       "      <td>980</td>\n",
       "      <td>665</td>\n",
       "    </tr>\n",
       "    <tr>\n",
       "      <th>2</th>\n",
       "      <td>940</td>\n",
       "      <td>1189</td>\n",
       "    </tr>\n",
       "    <tr>\n",
       "      <th>3</th>\n",
       "      <td>900</td>\n",
       "      <td>1044</td>\n",
       "    </tr>\n",
       "    <tr>\n",
       "      <th>4</th>\n",
       "      <td>860</td>\n",
       "      <td>914</td>\n",
       "    </tr>\n",
       "  </tbody>\n",
       "</table>\n",
       "</div>"
      ],
      "text/plain": [
       "   width  demand\n",
       "0   1000     706\n",
       "1    980     665\n",
       "2    940    1189\n",
       "3    900    1044\n",
       "4    860     914"
      ]
     },
     "execution_count": 3,
     "metadata": {},
     "output_type": "execute_result"
    }
   ],
   "source": [
    "df = pd.read_csv(\"/home/anuttar/Desktop/Assignments/IE647_Assignment3/cutstock.csv\")\n",
    "df = df.rename(columns={\"#width\": \"width\"})\n",
    "print(\"Total Number of Orders: \", len(df))\n",
    "df = df[:10]\n",
    "df.head()"
   ]
  },
  {
   "cell_type": "markdown",
   "id": "d0b50b49",
   "metadata": {},
   "source": [
    "Only <b> 10 samples </b> are used to obtain the solution. Using more (or all) samples took too much time"
   ]
  },
  {
   "cell_type": "markdown",
   "id": "557c76d0",
   "metadata": {},
   "source": [
    "### Probelm Modelling"
   ]
  },
  {
   "cell_type": "markdown",
   "id": "7d400789",
   "metadata": {},
   "source": [
    "#### Variables Used\n",
    "$W$ : Width of a large roll <br>\n",
    "$m$ : Number of orders <br>\n",
    "$d_{i}$ : Demand of $i^{th}$ order <br>\n",
    "$w_{i}$ : Width of $i^{th}$ order <br>\n",
    "$x_{i,j}$ : Number of pieces of width $w_{j}$ cut from $i^{th}$ large roll <br>\n",
    "$y_{i}$ : Boolean variable that denotes whether ith large roll is used (1) or not (0) <br>\n",
    "$p$ : Upper bound on number of large rolls $ (p = \\sum_{j=1}^{m} d_j )$  <br>"
   ]
  },
  {
   "cell_type": "markdown",
   "id": "2b294576",
   "metadata": {},
   "source": [
    "#### Cutstock Model\n",
    "$\n",
    "\\text{min} \\sum_{j=1}^{p} y_j\n",
    "$\n",
    "\n",
    "Subject to:\n",
    "\n",
    "$\n",
    "\\sum_{j=1}^{m} x_{ij} w_{j} \\leq W y_i, \\quad i = 1, \\dots, p\n",
    "$\n",
    "\n",
    "$\n",
    "\\sum_{i=1}^{p} x_{ij} \\geq d_j, \\quad j = 1, \\dots, m\n",
    "$\n",
    "\n",
    "$\n",
    "y_i \\in \\{0,1\\}, \\quad i = 1, \\dots, p\n",
    "$\n",
    "\n",
    "$\n",
    "x_{ij} \\in \\mathbb{Z}_+, \\quad i = 1, \\dots, p, \\quad j = 1, \\dots, m.\n",
    "$\n",
    "\n",
    "(Referenced from CCZ)"
   ]
  },
  {
   "cell_type": "markdown",
   "id": "aa07260a",
   "metadata": {},
   "source": [
    "### Solution"
   ]
  },
  {
   "cell_type": "markdown",
   "id": "dda568b0",
   "metadata": {},
   "source": [
    "Solver Used: CBC"
   ]
  },
  {
   "cell_type": "markdown",
   "id": "90ccdcd4",
   "metadata": {},
   "source": [
    "#### Using complete Integer Programming Formulation"
   ]
  },
  {
   "cell_type": "code",
   "execution_count": 9,
   "id": "8b7ceebc",
   "metadata": {},
   "outputs": [
    {
     "name": "stdout",
     "output_type": "stream",
     "text": [
      "Status: ok\n",
      "Termination Condition: optimal\n",
      "Optimal Objective: 19822.0\n",
      "Time taken:  3164.8934886455536  seconds\n"
     ]
    }
   ],
   "source": [
    "start_time = time.time()\n",
    "\n",
    "#Initialisation\n",
    "m = len(df[\"demand\"])\n",
    "p = np.sum(df[\"demand\"])\n",
    "w = np.array(df[\"width\"])\n",
    "d = np.array(df[\"demand\"])\n",
    "W = 1030\n",
    "\n",
    "#Define Model\n",
    "model = pyo.ConcreteModel()\n",
    "\n",
    "#Define Variables\n",
    "model.y = pyo.Var(range(p), within=pyo.Binary)\n",
    "model.X = pyo.Var(range(p), range(m), within=pyo.NonNegativeIntegers)\n",
    "\n",
    "#Define Objective Function\n",
    "model.obj = pyo.Objective(expr = sum(model.y[j] for j in range(p)), sense = pyo.minimize)\n",
    "\n",
    "#Adding Constraints\n",
    "model.constraints = pyo.ConstraintList()\n",
    "z1 = {i: sum(model.X[i, j] * w[j] for j in range(m)) for i in range(p)}\n",
    "for i in range(p):\n",
    "    model.constraints.add(z1[i] <= W * model.y[i])\n",
    "\n",
    "z2 = {j: sum(model.X[i, j] for i in range(p)) for j in range(m)}\n",
    "for i in range(m):\n",
    "    model.constraints.add(z2[i] == d[i])\n",
    "    \n",
    "# Select solver\n",
    "solver = pyo.SolverFactory('cbc')\n",
    "\n",
    "# Solve the problem\n",
    "result = solver.solve(model)\n",
    "\n",
    "# Display results\n",
    "print('Status:', result.solver.status)\n",
    "print('Termination Condition:', result.solver.termination_condition)\n",
    "print('Optimal Objective:', pyo.value(model.obj))\n",
    "\n",
    "end_time = time.time()\n",
    "print(\"Time taken: \", end_time - start_time, \" seconds\")"
   ]
  },
  {
   "cell_type": "markdown",
   "id": "064b4f24",
   "metadata": {},
   "source": [
    "#### Using LP Relaxation"
   ]
  },
  {
   "cell_type": "code",
   "execution_count": 6,
   "id": "352c83fa",
   "metadata": {},
   "outputs": [
    {
     "name": "stdout",
     "output_type": "stream",
     "text": [
      "Status: ok\n",
      "Termination Condition: optimal\n",
      "Optimal Objective: 15183.514612497396\n",
      "Time taken:  3.9636390209198 seconds\n"
     ]
    }
   ],
   "source": [
    "import pyomo.environ as pyo\n",
    "import time\n",
    "\n",
    "start_time = time.time()\n",
    "\n",
    "#Initialisation\n",
    "m = len(df[\"demand\"])\n",
    "p = np.sum(df[\"demand\"])\n",
    "w = np.array(df[\"width\"])\n",
    "d = np.array(df[\"demand\"])\n",
    "W = 1030\n",
    "\n",
    "#Define Model\n",
    "model = pyo.ConcreteModel()\n",
    "\n",
    "#Define Variables\n",
    "model.y = pyo.Var(range(p), within=pyo.NonNegativeReals)\n",
    "model.X = pyo.Var(range(p), range(m), within=pyo.NonNegativeReals)\n",
    "\n",
    "#Define Objective Function\n",
    "model.obj = pyo.Objective(expr = sum(model.y[j] for j in range(p)), sense = pyo.minimize)\n",
    "\n",
    "#Adding Constraints\n",
    "model.constraints = pyo.ConstraintList()\n",
    "z1 = {i: sum(model.X[i, j] * w[j] for j in range(m)) for i in range(p)}\n",
    "for i in range(p):\n",
    "    model.constraints.add(z1[i] <= W * model.y[i])\n",
    "\n",
    "z2 = {j: sum(model.X[i, j] for i in range(p)) for j in range(m)}\n",
    "for i in range(m):\n",
    "    model.constraints.add(z2[i] == d[i])\n",
    "    \n",
    "# Select solver\n",
    "solver = pyo.SolverFactory('ipopt')\n",
    "\n",
    "# Solve the problem\n",
    "result = solver.solve(model)\n",
    "\n",
    "# Display results\n",
    "print('Status:', result.solver.status)\n",
    "print('Termination Condition:', result.solver.termination_condition)\n",
    "print('Optimal Objective:', pyo.value(model.obj))\n",
    "\n",
    "end_time = time.time()\n",
    "print(\"Time taken: \", end_time - start_time, \"seconds\")"
   ]
  }
 ],
 "metadata": {
  "kernelspec": {
   "display_name": "Python 3 (ipykernel)",
   "language": "python",
   "name": "python3"
  },
  "language_info": {
   "codemirror_mode": {
    "name": "ipython",
    "version": 3
   },
   "file_extension": ".py",
   "mimetype": "text/x-python",
   "name": "python",
   "nbconvert_exporter": "python",
   "pygments_lexer": "ipython3",
   "version": "3.12.2"
  }
 },
 "nbformat": 4,
 "nbformat_minor": 5
}
