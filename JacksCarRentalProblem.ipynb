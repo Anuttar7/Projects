{
 "cells": [
  {
   "cell_type": "code",
   "execution_count": 1,
   "id": "b6880852-e796-46cf-b04d-6c87b3226de7",
   "metadata": {},
   "outputs": [],
   "source": [
    "import numpy as np\n",
    "import pandas as pd\n",
    "import matplotlib.pyplot as plt\n",
    "import itertools as itt\n",
    "from scipy.stats import poisson"
   ]
  },
  {
   "cell_type": "code",
   "execution_count": 2,
   "id": "408a7435-b7c5-47e7-86c7-22c0a3c9a3aa",
   "metadata": {},
   "outputs": [],
   "source": [
    "#initialisation\n",
    "n = 20\n",
    "S = list(itt.product(range(n+1), range(n+1)))\n",
    "Pi = np.zeros((n+1, n+1))\n",
    "V = np.zeros((n+1, n+1))\n",
    "lamda1_rent = 3\n",
    "lamda1_return = 4\n",
    "lamda2_rent = 3\n",
    "lamda2_return = 2\n",
    "gamma = 0.9"
   ]
  },
  {
   "cell_type": "code",
   "execution_count": 3,
   "id": "c6d9fdc8-5071-418b-a9a4-9c8707c5a6fb",
   "metadata": {},
   "outputs": [],
   "source": [
    "def expected_return (a, b):\n",
    "    v = 0\n",
    "    a1 = max(0, a - Pi[a,b])\n",
    "    b1 = max(0, b - Pi[a,b])\n",
    "    for x1 in range(int(a1)):\n",
    "        for y1 in range(int(b1)):\n",
    "            for x2 in range(int(n - a1 + x1)):\n",
    "                for y2 in range(int(n - b1 + y1)):\n",
    "                    p = poisson.pmf(x1, lamda1_rent) * poisson.pmf(x2, lamda1_return) * poisson.pmf(y1, lamda2_rent) * poisson.pmf(y2, lamda2_return)\n",
    "                    r = 10*x1 + 10*y1 - 2*Pi[a,b]\n",
    "                    a_new = int(a - Pi[a,b] + x2 - x1)\n",
    "                    b_new = int(b + Pi[a,b] + y2 - y1)\n",
    "                    v += p * (r + gamma*V[a_new, b_new])\n",
    "    return v"
   ]
  },
  {
   "cell_type": "code",
   "execution_count": null,
   "id": "4a9f15c0-9170-40b5-b3b9-d7276bb3d38f",
   "metadata": {},
   "outputs": [],
   "source": [
    "#Update V(s)\n",
    "for i in range(n+1):\n",
    "    for j in range(n+1):\n",
    "        V[i,j] = expected_return(i, j)"
   ]
  }
 ],
 "metadata": {
  "kernelspec": {
   "display_name": "Python 3 (ipykernel)",
   "language": "python",
   "name": "python3"
  },
  "language_info": {
   "codemirror_mode": {
    "name": "ipython",
    "version": 3
   },
   "file_extension": ".py",
   "mimetype": "text/x-python",
   "name": "python",
   "nbconvert_exporter": "python",
   "pygments_lexer": "ipython3",
   "version": "3.12.2"
  }
 },
 "nbformat": 4,
 "nbformat_minor": 5
}
